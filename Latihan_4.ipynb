{
 "cells": [
  {
   "cell_type": "code",
   "execution_count": 1,
   "metadata": {},
   "outputs": [
    {
     "name": "stdout",
     "output_type": "stream",
     "text": [
      "Tokenized Words: ['Agus', 'Lapar', 'Buk', '.']\n"
     ]
    },
    {
     "name": "stderr",
     "output_type": "stream",
     "text": [
      "[nltk_data] Downloading package punkt to\n",
      "[nltk_data]     C:\\Users\\LENOVO\\AppData\\Roaming\\nltk_data...\n",
      "[nltk_data]   Package punkt is already up-to-date!\n"
     ]
    }
   ],
   "source": [
    "import nltk\n",
    "from nltk.tokenize import word_tokenize\n",
    "\n",
    "nltk.download('punkt')\n",
    "\n",
    "kalimat = \"Agus Lapar Buk.\"\n",
    "\n",
    "tokens = word_tokenize(kalimat)\n",
    "\n",
    "print(\"Tokenized Words:\", tokens)\n"
   ]
  },
  {
   "cell_type": "code",
   "execution_count": 2,
   "metadata": {},
   "outputs": [
    {
     "name": "stdout",
     "output_type": "stream",
     "text": [
      "Tokenized Sentences 1: ['Baju baru Alhamdulillah.']\n",
      "Tokenized Sentences 2: ['Siang Siang enak mokel nih']\n",
      "Tokenized Sentences 3: ['Bentar lagi Lebaran.', 'Mohon maaf lahir Batin']\n"
     ]
    }
   ],
   "source": [
    "#eksperiment menggunakan variabel berbeda-beda\n",
    "import nltk\n",
    "from nltk.tokenize import sent_tokenize\n",
    "\n",
    "paragraf1 = \"Siang Siang enak mokel nih\"\n",
    "paragraf2 = \"Bentar lagi Lebaran. Mohon maaf lahir Batin\"\n",
    "kalimat = \"Baju baru Alhamdulillah.\"\n",
    "\n",
    "sentences1 = sent_tokenize(kalimat)\n",
    "sentences2 = sent_tokenize(paragraf1)\n",
    "sentences3 = sent_tokenize(paragraf2)\n",
    "\n",
    "\n",
    "print(\"Tokenized Sentences 1:\", sentences1)\n",
    "print(\"Tokenized Sentences 2:\", sentences2)\n",
    "print(\"Tokenized Sentences 3:\", sentences3)\n",
    "\n"
   ]
  },
  {
   "cell_type": "code",
   "execution_count": 3,
   "metadata": {},
   "outputs": [
    {
     "name": "stdout",
     "output_type": "stream",
     "text": [
      "BMI Anda: 18.79 - Normal\n"
     ]
    }
   ],
   "source": [
    "#menghitung berat ideal tubuh\n",
    "def hitung_bmi():\n",
    "    weight = float(input(\"Masukkan berat badan (kg): \"))\n",
    "    height = float(input(\"Masukkan tinggi badan (m): \"))\n",
    "\n",
    "    bmi = weight / (height ** 2)\n",
    "\n",
    "    if bmi < 18.5:\n",
    "        kategori = \"Underweight (Kurus)\"\n",
    "    elif 18.5 <= bmi < 25:\n",
    "        kategori = \"Normal\"\n",
    "    elif 25 <= bmi < 30:\n",
    "        kategori = \"Overweight (Kelebihan berat badan)\"\n",
    "    else:\n",
    "        kategori = \"Obese (Obesitas)\"\n",
    "\n",
    "    print(f\"BMI Anda: {bmi:.2f} - {kategori}\")\n",
    "\n",
    "hitung_bmi()\n"
   ]
  }
 ],
 "metadata": {
  "kernelspec": {
   "display_name": "myenv",
   "language": "python",
   "name": "myenv"
  },
  "language_info": {
   "codemirror_mode": {
    "name": "ipython",
    "version": 3
   },
   "file_extension": ".py",
   "mimetype": "text/x-python",
   "name": "python",
   "nbconvert_exporter": "python",
   "pygments_lexer": "ipython3",
   "version": "3.12.7"
  }
 },
 "nbformat": 4,
 "nbformat_minor": 2
}
